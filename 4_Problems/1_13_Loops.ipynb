{
 "cells": [
  {
   "cell_type": "markdown",
   "id": "d307ee11",
   "metadata": {},
   "source": [
    "<a target=\"_blank\" href=\"https://colab.research.google.com/github/lukebarousse/Python_Data_Analytics_Course/blob/main/4_Problems/1_13_Loops.ipynb\">\n",
    "  <img src=\"https://colab.research.google.com/assets/colab-badge.svg\" alt=\"Open In Colab\"/>\n",
    "</a>"
   ]
  },
  {
   "cell_type": "markdown",
   "id": "37897aa9",
   "metadata": {},
   "source": [
    "## 🟩 Print Job Titles (1.13.1)"
   ]
  },
  {
   "cell_type": "code",
   "execution_count": 1,
   "id": "45d217e3",
   "metadata": {},
   "outputs": [
    {
     "name": "stdout",
     "output_type": "stream",
     "text": [
      "Data Scientist\n",
      "Data Analyst\n",
      "Machine Learning Engineer\n"
     ]
    }
   ],
   "source": [
    "# Code Needed\n",
    "job_titles = ['Data Scientist', 'Data Analyst', 'Machine Learning Engineer']\n",
    "\n",
    "for job in job_titles:\n",
    "    print(job)"
   ]
  },
  {
   "cell_type": "markdown",
   "id": "1943a324",
   "metadata": {},
   "source": [
    "---"
   ]
  },
  {
   "cell_type": "markdown",
   "id": "90020e24",
   "metadata": {},
   "source": [
    "## 🟩 Total Job Postings (1.13.2)"
   ]
  },
  {
   "cell_type": "code",
   "execution_count": 7,
   "id": "038f046a",
   "metadata": {},
   "outputs": [
    {
     "name": "stdout",
     "output_type": "stream",
     "text": [
      "75\n"
     ]
    }
   ],
   "source": [
    "# Code Needed\n",
    "job_postings = [5, 10, 15, 20, 25]\n",
    "index = 0\n",
    "counter = 0\n",
    "\n",
    "while index < len(job_postings):\n",
    "    counter += job_postings[index]\n",
    "    index += 1\n",
    "\n",
    "print(counter)"
   ]
  },
  {
   "cell_type": "markdown",
   "id": "b4abe1cc",
   "metadata": {},
   "source": [
    "---"
   ]
  },
  {
   "cell_type": "markdown",
   "id": "4eec072a",
   "metadata": {},
   "source": [
    "## 🟨 Print Job Titles with Index (1.13.3)"
   ]
  },
  {
   "cell_type": "code",
   "execution_count": 11,
   "id": "ee175f7b",
   "metadata": {},
   "outputs": [
    {
     "name": "stdout",
     "output_type": "stream",
     "text": [
      "0: Data Scientist\n",
      "1: Data Analyst\n",
      "2: Machine Learning Engineer\n"
     ]
    }
   ],
   "source": [
    "# Code Needed\n",
    "job_titles = ['Data Scientist', 'Data Analyst', 'Machine Learning Engineer']\n",
    "\n",
    "for index, title in enumerate(job_titles):\n",
    "    print(f'{index}: {title}')"
   ]
  },
  {
   "cell_type": "markdown",
   "id": "d2d5f706",
   "metadata": {},
   "source": [
    "---"
   ]
  },
  {
   "cell_type": "markdown",
   "id": "7001cfa8",
   "metadata": {},
   "source": [
    "## 🟨 Find First Engineer (1.13.4)"
   ]
  },
  {
   "cell_type": "code",
   "execution_count": 14,
   "id": "724ac1bf",
   "metadata": {},
   "outputs": [
    {
     "name": "stdout",
     "output_type": "stream",
     "text": [
      "Machine Learning Engineer\n"
     ]
    }
   ],
   "source": [
    "# Code Needed\n",
    "job_titles = ['Data Scientist', 'Data Analyst', 'Machine Learning Engineer', 'Software Engineer']\n",
    "title = \"Engineer\"\n",
    "index = 0\n",
    "\n",
    "while index < len(job_titles):\n",
    "    if title in job_titles[index]:\n",
    "        print(job_titles[index])\n",
    "        break\n",
    "    index += 1"
   ]
  },
  {
   "cell_type": "markdown",
   "id": "2021b7cd",
   "metadata": {},
   "source": [
    "---"
   ]
  },
  {
   "cell_type": "markdown",
   "id": "be1bf346",
   "metadata": {},
   "source": [
    "## 🟥 Print Job Titles Containing 'Data' (1.13.5)"
   ]
  },
  {
   "cell_type": "code",
   "execution_count": 52,
   "id": "c71d29c9",
   "metadata": {},
   "outputs": [
    {
     "name": "stdout",
     "output_type": "stream",
     "text": [
      "The role of Data Scientist requires proficiency in Python\n",
      "The role of Data Scientist requires proficiency in R\n",
      "The role of Data Analyst requires proficiency in SQL\n",
      "The role of Data Analyst requires proficiency in Excel\n",
      "The role of Machine Learning Engineer requires proficiency in Python\n",
      "The role of Machine Learning Engineer requires proficiency in TensorFlow\n"
     ]
    }
   ],
   "source": [
    "# Code Needed\n",
    "positions_skills = {\n",
    "    'Data Scientist': ['Python', 'R'],\n",
    "    'Data Analyst': ['SQL', 'Excel'],\n",
    "    'Machine Learning Engineer': ['Python', 'TensorFlow']\n",
    "}\n",
    "\n",
    "for position, skills in positions_skills.items():\n",
    "    for skill in skills:\n",
    "        print(f\"The role of {position} requires proficiency in {skill}\")"
   ]
  },
  {
   "cell_type": "markdown",
   "id": "11af0530",
   "metadata": {},
   "source": [
    "---"
   ]
  }
 ],
 "metadata": {
  "kernelspec": {
   "display_name": "Python 3",
   "language": "python",
   "name": "python3"
  },
  "language_info": {
   "codemirror_mode": {
    "name": "ipython",
    "version": 3
   },
   "file_extension": ".py",
   "mimetype": "text/x-python",
   "name": "python",
   "nbconvert_exporter": "python",
   "pygments_lexer": "ipython3",
   "version": "3.11.4"
  }
 },
 "nbformat": 4,
 "nbformat_minor": 5
}
